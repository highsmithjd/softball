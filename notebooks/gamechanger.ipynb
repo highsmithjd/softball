{
 "cells": [
  {
   "cell_type": "markdown",
   "id": "c8e6d141",
   "metadata": {},
   "source": [
    "## Notebook to analyze data from game changer seasonal stat export"
   ]
  },
  {
   "cell_type": "code",
   "execution_count": 1,
   "id": "93cda3f2",
   "metadata": {},
   "outputs": [],
   "source": [
    "#import packages\n",
    "\n",
    "import pandas as pd\n",
    "from matplotlib import pyplot as plt"
   ]
  },
  {
   "cell_type": "code",
   "execution_count": 2,
   "id": "9de534c4",
   "metadata": {
    "scrolled": true
   },
   "outputs": [],
   "source": [
    "#Read csv into initial_df. Provide path to csv\n",
    "\n",
    "initial_df = pd.read_csv('../data/tnbh11202022.csv')"
   ]
  },
  {
   "cell_type": "code",
   "execution_count": 3,
   "id": "eb77ab5c",
   "metadata": {},
   "outputs": [],
   "source": [
    "#drop the row that contains the glossary. At this point, the column is still 'Unamed: 0'\n",
    "\n",
    "initial_df.drop(initial_df[initial_df['Unnamed: 0'] == 'Glossary'].index, inplace = True)"
   ]
  },
  {
   "cell_type": "code",
   "execution_count": 24,
   "id": "46ce714d",
   "metadata": {},
   "outputs": [],
   "source": [
    "#In the first row of the seasonal stats csv, there are 3 columm values. 'Batting', 'Pitching', and 'Fielding'\n",
    "\n",
    "#Grab Number, Last, and First columns and save as player_df. we can use this as the first 3 columns in pitching and fielding dataframes\n",
    "player_df = initial_df.iloc[:,:4]\n",
    "\n",
    "#We want to slice the data from column1 to the 'Pitching' value. Drop the 'Pitching' column and call the new dataframe, initial_batting_df\n",
    "initial_batting_df = initial_df.loc[:,:'Pitching'].drop(['Pitching'], axis='columns')\n",
    "\n",
    "#Slice the csv from 'Pitching' to 'Fielding' and create the initial_pitching_df. Drop the 'Fielding' column at the end\n",
    "\n",
    "initial_pitching_df = initial_df.loc[:,'Pitching':'Fielding'].drop(['Fielding'], axis='columns')\n",
    "\n",
    "#Slice the csv from 'Fielding' to the end of the last column\n",
    "initial_fielding_df = initial_df.loc[:,'Fielding':]\n",
    "\n",
    "#Add the Number, First, and Last columns to the pitching and fielding dataframe. Batting was already set\n",
    "initial_pitching_df = pd.concat([player_df, initial_pitching_df], axis = 1)\n",
    "initial_fielding_df = pd.concat([player_df, initial_fielding_df], axis = 1)\n",
    "\n"
   ]
  },
  {
   "cell_type": "code",
   "execution_count": 25,
   "id": "7ae56fe5",
   "metadata": {},
   "outputs": [],
   "source": [
    "#we need to change the column header row from the \"unamed\" headers to the first row in the csv which contain headers like \"AVG\", \"OBS\", etc\n",
    "\n",
    "#grab the first row for the header\n",
    "new_batting_header = initial_batting_df.iloc[0]\n",
    "new_pitching_header = initial_pitching_df.iloc[0]\n",
    "new_fielding_header = initial_fielding_df.iloc[0]\n",
    "\n",
    "#take the data minus the header row. this creates a new dataframe\n",
    "\n",
    "# (deprecated) initial_batting_df_drop_header_row = initial_batting_df[1:]\n",
    "initial_batting_df_drop_header_row = initial_batting_df.iloc[1:,:]\n",
    "initial_pitching_df_drop_header_row = initial_pitching_df.iloc[1:,:]\n",
    "initial_fielding_df_drop_header_row = initial_fielding_df.iloc[1:,:]\n",
    "\n",
    "#set the header row as the df header. the .column sets the headers of the dataframe\n",
    "initial_batting_df_drop_header_row.columns = new_batting_header\n",
    "initial_pitching_df_drop_header_row.columns = new_pitching_header\n",
    "initial_fielding_df_drop_header_row.columns = new_fielding_header\n"
   ]
  },
  {
   "cell_type": "code",
   "execution_count": 26,
   "id": "011acf75",
   "metadata": {},
   "outputs": [
    {
     "name": "stderr",
     "output_type": "stream",
     "text": [
      "/Users/danielhighsmith/opt/anaconda3/lib/python3.9/site-packages/pandas/core/indexing.py:1951: SettingWithCopyWarning: \n",
      "A value is trying to be set on a copy of a slice from a DataFrame.\n",
      "Try using .loc[row_indexer,col_indexer] = value instead\n",
      "\n",
      "See the caveats in the documentation: https://pandas.pydata.org/pandas-docs/stable/user_guide/indexing.html#returning-a-view-versus-a-copy\n",
      "  self.obj[selected_item_labels] = value\n"
     ]
    }
   ],
   "source": [
    "#drop rows where the 'Number' column contains nulls\n",
    "\n",
    "# (deprecated) initial_batting_df_drop_nan = initial_batting_df_drop_header_row[initial_batting_df_drop_header_row['Number'].notna()]\n",
    "initial_batting_df_drop_nan = initial_batting_df_drop_header_row[initial_batting_df_drop_header_row.loc[:,'Number'].notna()]\n",
    "initial_pitching_df_drop_nan = initial_pitching_df_drop_header_row[initial_pitching_df_drop_header_row.loc[:,'Number'].notna()]\n",
    "initial_fielding_df_drop_nan = initial_fielding_df_drop_header_row[initial_fielding_df_drop_header_row.loc[:,'Number'].notna()]\n",
    "\n",
    "initial_batting_df_drop_total = initial_batting_df_drop_nan[initial_batting_df_drop_nan['First'].notna()]\n",
    "initial_pitching_df_drop_total = initial_pitching_df_drop_nan[initial_pitching_df_drop_nan['First'].notna()]\n",
    "initial_fielding_df_drop_total = initial_fielding_df_drop_nan[initial_fielding_df_drop_nan['First'].notna()]\n",
    "\n",
    "#Convert IP column from object type to float type, then remove all rows with IP (innings pitchted) greater than zero. This should leave only pitchers in this dataframe\n",
    "initial_pitching_df_drop_total.loc[:,\"IP\"] = initial_pitching_df_drop_total[\"IP\"].astype(float)\n",
    "initial_pitching_df_drop_total = initial_pitching_df_drop_total.loc[(initial_pitching_df_drop_total['IP'] > 0)]\n",
    "\n"
   ]
  },
  {
   "cell_type": "code",
   "execution_count": 34,
   "id": "f0fb8629",
   "metadata": {},
   "outputs": [],
   "source": [
    "#Make dictionary for batting, pitching, and fielding column data types\n",
    "\n",
    "batting_dict = {'Number':int, 'Last':str, 'First':str, 'GP':int, 'PA':int, 'AB':int, 'AVG':float, 'OBP':float, 'OPS':float, 'SLG':float, 'H':int, '1B':int, '2B':int, '3B':int, 'HR':int, 'RBI':int, 'R':int, 'BB':int, 'SO':int, 'K-L':int, 'HBP':int, 'SAC':int, 'SF':int, 'ROE':int, 'FC':int, 'SB':int, 'SB%':float, 'CS':int, 'PIK':int, 'QAB':int, 'QAB%':float, 'PA/BB':float, 'BB/K':float, 'C%':float, 'HHB':int, 'LD%':float, 'FB%':float, 'GB%':float, 'BABIP':float, 'BA/RISP':float, 'LOB':int, '2OUTRBI':int, 'XBH':int, 'TB':int, 'PS':int, 'PS/PA':float, '2S+3':int, '2S+3%':float, '6+':int, \"6+%\":float, 'AB/HR':int, 'GIDP':int, 'GITP':int, 'CI':int}\n",
    "\n",
    "pitching_dict = {'Number':int, 'Last':str, 'First':str, 'IP':int, 'GP':int, 'GS':int, 'BF':int, '#P':int, 'W':int, 'L':int, 'SV':int, 'SVO':int, 'BS':int, 'SV%':float, 'H':int, 'R':int, 'ER':int, 'BB':int, 'SO':int, 'K-L':int, 'HBP':int, 'ERA':float, 'WHIP':float, 'LOB':int, 'BK':int, 'PIK':int, 'CS':int, 'SB':int, 'SB%':float, 'WP':int, 'BAA':float, 'P/IP':float, 'P/BF':float, '<3%':float, 'LOO':int, '1ST2OUT':int, '123INN':int, '<13':int, 'FIP':float, 'S%':float, 'FPS%':float, 'FPSO%':float, 'FPSW%':float, 'FPSH%':float, 'BB/INN':float, '0BBINN':int, 'BBS':int, 'LOBB':int, 'LOBBS':int, 'SM%':float, 'K/BF':float, 'K/BB':float, 'WEAK%':float, 'HHB%':float, 'GO/AO':float, 'HR':int, 'LD%':float, 'FB%':float, 'GB%':float, 'BABIP':float, 'BA/RISP':float, 'FB':int, 'FBS':int, 'FBS%':float, 'FBSW%':float, 'FBSM%':float, 'CH':int, 'CHS':int, 'CHS%':float, 'CHSW%':float, 'CHSM%':float, 'RB':int, 'RBS':int, 'RBS%':float, 'RBSW%':float, 'RBSM%':float, 'DB':int, 'DBS':int, 'DBS%':float, 'DBSW%':float, 'DBSM%':float, 'SC':int, 'SCS':int, 'SCS%':float, 'SCSW%':float, 'SCSM%':float, 'CB':int, 'CBS':int, 'CBS%':float, 'CBSW%':float, 'CBSM%':float, 'DC':int, 'DCS':int, 'DCS%':float, 'DCSW%':float, 'DCSM%':float, 'KB':int, 'KBS':int, 'KBS%':float, 'KBSW%':float, 'KBSM%':float, 'KC':int, 'KCS':int, 'KCS%':float, 'KCSW%':float, 'KCSM%':float, 'OS':int, 'OSS':int, 'OSS%':float, 'OSSW%':float, 'OSSM%':float}\n",
    "\n",
    "fielding_dict = {'Number': int, 'Last':str, 'First':str, 'GP':int, 'TC':int, 'A':int, 'PO':int, 'FPCT':float, 'E':int, 'DP':int, 'TP':int, 'INN':float, 'PB':int, 'SB':int, 'SB-ATT':str, 'CS':int, 'CS%':float, 'PIK':int, 'CI':int}"
   ]
  },
  {
   "cell_type": "code",
   "execution_count": 35,
   "id": "07a35b84",
   "metadata": {},
   "outputs": [],
   "source": [
    "#create new dataframe with correct column dtypes\n",
    "batting_df = initial_batting_df_drop_total.astype(batting_dict)\n",
    "pitching_df = initial_pitching_df_drop_total.astype(pitching_dict)\n",
    "fielding_df = initial_fielding_df_drop_total.astype(fielding_dict)\n",
    "catchers_df = fielding_df.loc[(fielding_df['INN'] > 0)]\n"
   ]
  },
  {
   "cell_type": "code",
   "execution_count": 36,
   "id": "a2c77a54",
   "metadata": {},
   "outputs": [
    {
     "data": {
      "text/html": [
       "<div>\n",
       "<style scoped>\n",
       "    .dataframe tbody tr th:only-of-type {\n",
       "        vertical-align: middle;\n",
       "    }\n",
       "\n",
       "    .dataframe tbody tr th {\n",
       "        vertical-align: top;\n",
       "    }\n",
       "\n",
       "    .dataframe thead th {\n",
       "        text-align: right;\n",
       "    }\n",
       "</style>\n",
       "<table border=\"1\" class=\"dataframe\">\n",
       "  <thead>\n",
       "    <tr style=\"text-align: right;\">\n",
       "      <th></th>\n",
       "      <th>Number</th>\n",
       "      <th>Last</th>\n",
       "      <th>First</th>\n",
       "      <th>GP</th>\n",
       "      <th>TC</th>\n",
       "      <th>A</th>\n",
       "      <th>PO</th>\n",
       "      <th>FPCT</th>\n",
       "      <th>E</th>\n",
       "      <th>DP</th>\n",
       "      <th>TP</th>\n",
       "      <th>INN</th>\n",
       "      <th>PB</th>\n",
       "      <th>SB</th>\n",
       "      <th>SB-ATT</th>\n",
       "      <th>CS</th>\n",
       "      <th>CS%</th>\n",
       "      <th>PIK</th>\n",
       "      <th>CI</th>\n",
       "    </tr>\n",
       "  </thead>\n",
       "  <tbody>\n",
       "    <tr>\n",
       "      <th>10</th>\n",
       "      <td>25</td>\n",
       "      <td>H</td>\n",
       "      <td>Ava</td>\n",
       "      <td>14</td>\n",
       "      <td>29</td>\n",
       "      <td>4</td>\n",
       "      <td>23</td>\n",
       "      <td>0.931</td>\n",
       "      <td>2</td>\n",
       "      <td>0</td>\n",
       "      <td>0</td>\n",
       "      <td>40.0</td>\n",
       "      <td>12</td>\n",
       "      <td>25</td>\n",
       "      <td>25-29</td>\n",
       "      <td>4</td>\n",
       "      <td>13.79</td>\n",
       "      <td>0</td>\n",
       "      <td>0</td>\n",
       "    </tr>\n",
       "    <tr>\n",
       "      <th>11</th>\n",
       "      <td>32</td>\n",
       "      <td>Costello</td>\n",
       "      <td>Lyric</td>\n",
       "      <td>20</td>\n",
       "      <td>39</td>\n",
       "      <td>12</td>\n",
       "      <td>20</td>\n",
       "      <td>0.821</td>\n",
       "      <td>7</td>\n",
       "      <td>0</td>\n",
       "      <td>0</td>\n",
       "      <td>3.2</td>\n",
       "      <td>0</td>\n",
       "      <td>4</td>\n",
       "      <td>4-Apr</td>\n",
       "      <td>0</td>\n",
       "      <td>0.00</td>\n",
       "      <td>0</td>\n",
       "      <td>0</td>\n",
       "    </tr>\n",
       "    <tr>\n",
       "      <th>14</th>\n",
       "      <td>98</td>\n",
       "      <td>Spurlock</td>\n",
       "      <td>Ava</td>\n",
       "      <td>19</td>\n",
       "      <td>48</td>\n",
       "      <td>4</td>\n",
       "      <td>37</td>\n",
       "      <td>0.854</td>\n",
       "      <td>7</td>\n",
       "      <td>0</td>\n",
       "      <td>0</td>\n",
       "      <td>47.1</td>\n",
       "      <td>9</td>\n",
       "      <td>25</td>\n",
       "      <td>25-30</td>\n",
       "      <td>5</td>\n",
       "      <td>16.67</td>\n",
       "      <td>1</td>\n",
       "      <td>0</td>\n",
       "    </tr>\n",
       "  </tbody>\n",
       "</table>\n",
       "</div>"
      ],
      "text/plain": [
       "0   Number      Last  First  GP  TC   A  PO   FPCT  E  DP  TP   INN  PB  SB  \\\n",
       "10      25         H    Ava  14  29   4  23  0.931  2   0   0  40.0  12  25   \n",
       "11      32  Costello  Lyric  20  39  12  20  0.821  7   0   0   3.2   0   4   \n",
       "14      98  Spurlock    Ava  19  48   4  37  0.854  7   0   0  47.1   9  25   \n",
       "\n",
       "0  SB-ATT  CS    CS%  PIK  CI  \n",
       "10  25-29   4  13.79    0   0  \n",
       "11  4-Apr   0   0.00    0   0  \n",
       "14  25-30   5  16.67    1   0  "
      ]
     },
     "execution_count": 36,
     "metadata": {},
     "output_type": "execute_result"
    }
   ],
   "source": [
    "fielding_df.head()"
   ]
  },
  {
   "cell_type": "code",
   "execution_count": 37,
   "id": "c069744a",
   "metadata": {},
   "outputs": [],
   "source": [
    "# Create a new dataframe with platers who have played 10 games or more. This will eliminate most pick up players. Comment this section out if early in season\n",
    "batting_df_ten = batting_df.loc[(batting_df['GP'] >= 10)]\n",
    "fielding_df_ten = fielding_df.loc[(fielding_df['GP'] >= 10)]\n"
   ]
  },
  {
   "cell_type": "code",
   "execution_count": 13,
   "id": "1686b795",
   "metadata": {},
   "outputs": [
    {
     "data": {
      "image/png": "[encoded data removed]",
      "text/plain": [
       "<Figure size 864x576 with 1 Axes>"
      ]
     },
     "metadata": {
      "needs_background": "light"
     },
     "output_type": "display_data"
    }
   ],
   "source": [
    "# Plot the AVG column on the x-axis and the OBP column on the y-axis\n",
    "# plt.xlim and plt.ylim moves the graph out to 1.0 which is a 1000 batting average and 1000 on base percentage\n",
    "# plt.figure increases the plot size so the scatter plot is not so crowded\n",
    "fig = plt.figure(figsize=(12,8))\n",
    "plt.style.use('fivethirtyeight')\n",
    "plt.scatter(final_batting_df[\"AVG\"], final_batting_df[\"OBP\"])\n",
    "plt.xlabel(\"Batting Average\")\n",
    "plt.ylabel('On Base Percentage')\n",
    "plt.title('AVG and OBP')\n",
    "plt.grid()\n",
    "plt.xlim((0,1))\n",
    "plt.ylim((0,1))\n",
    "\n",
    "\n",
    "for x_pos, y_pos, label in zip(final_batting_df[\"AVG\"], final_batting_df[\"OBP\"], final_batting_df[\"First\"]):\n",
    "    plt.annotate(label,             # The label for this point\n",
    "                xy=(x_pos, y_pos), # Position of the corresponding point\n",
    "                xytext=(7, 0),     # Offset text by 7 points to the right\n",
    "                textcoords='offset points', # tell it to use offset points\n",
    "                ha='left',         # Horizontally aligned to the left\n",
    "                va='center')       # Vertical alignment is centered\n",
    "\n",
    "# plt.savefig('avg_obp.png') \n",
    "# gc_team_t = np.transpose(gc_team)\n",
    "\n",
    "#plt.grid() shows grid lines on the plot\n",
    "plt.grid()\n",
    "\n",
    "plt.show()"
   ]
  },
  {
   "cell_type": "code",
   "execution_count": 39,
   "id": "a7d507a9",
   "metadata": {},
   "outputs": [
    {
     "data": {
      "text/plain": [
       "<BarContainer object of 13 artists>"
      ]
     },
     "execution_count": 39,
     "metadata": {},
     "output_type": "execute_result"
    },
    {
     "data": {
      "image/png": "[encoded data removed]",
      "text/plain": [
       "<Figure size 432x288 with 1 Axes>"
      ]
     },
     "metadata": {},
     "output_type": "display_data"
    }
   ],
   "source": [
    "#horizontal bar chare of batting averages, sorted AVG with the sorted() function\n",
    "#plt.barh(batting_df.First, sorted(batting_df.AVG))\n",
    "\n",
    "#plt.barh(pitching_df.First, sorted(pitching_df.IP))\n",
    "\n",
    "plt.barh(fielding_df_ten.First, sorted(fielding_df_ten.E))\n"
   ]
  },
  {
   "cell_type": "code",
   "execution_count": null,
   "id": "74616dae",
   "metadata": {},
   "outputs": [],
   "source": []
  },
  {
   "cell_type": "code",
   "execution_count": null,
   "id": "287d3141",
   "metadata": {},
   "outputs": [],
   "source": []
  }
 ],
 "metadata": {
  "kernelspec": {
   "display_name": "Python 3 (ipykernel)",
   "language": "python",
   "name": "python3"
  },
  "language_info": {
   "codemirror_mode": {
    "name": "ipython",
    "version": 3
   },
   "file_extension": ".py",
   "mimetype": "text/x-python",
   "name": "python",
   "nbconvert_exporter": "python",
   "pygments_lexer": "ipython3",
   "version": "3.9.7"
  }
 },
 "nbformat": 4,
 "nbformat_minor": 5
}
