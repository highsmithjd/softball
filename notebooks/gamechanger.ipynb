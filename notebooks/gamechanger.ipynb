{
 "cells": [
  {
   "cell_type": "code",
   "execution_count": 2,
   "id": "5b471c02",
   "metadata": {},
   "outputs": [],
   "source": [
    "#Notebook to analyze data from game changer seasonal stat export"
   ]
  },
  {
   "cell_type": "code",
   "execution_count": 15,
   "id": "93cda3f2",
   "metadata": {},
   "outputs": [],
   "source": [
    "#import packages\n",
    "\n",
    "import pandas as pd\n",
    "from matplotlib import pyplot as plt"
   ]
  },
  {
   "cell_type": "code",
   "execution_count": 16,
   "id": "9de534c4",
   "metadata": {
    "scrolled": true
   },
   "outputs": [],
   "source": [
    "initial_df = pd.read_csv('../data/gcstats09062022.csv')"
   ]
  },
  {
   "cell_type": "code",
   "execution_count": 17,
   "id": "46ce714d",
   "metadata": {},
   "outputs": [],
   "source": [
    "#In the first row of the seasonal stats csv, there are 2 columm values. 'Batting' and 'Pitching.'\n",
    "#We want to slice the data from column1 to the 'Pitching' value, and call it initial_batting_df_plus_pitching.\n",
    "\n",
    "initial_batting_df_plus_pitching = initial_df.loc[:,:'Pitching']\n",
    "\n",
    "#Drop the 'Pitching' column and call the new dataframe, initial_batting_df\n",
    "\n",
    "initial_batting_df = initial_batting_df_plus_pitching.drop(['Pitching'], axis=1)\n"
   ]
  },
  {
   "cell_type": "code",
   "execution_count": 20,
   "id": "914b96a1",
   "metadata": {},
   "outputs": [],
   "source": [
    "#Slice the csv from 'Pitching' to the end of the csv columns'\n",
    "\n",
    "initial_pitching_df = initial_df.loc[:,'Pitching':]"
   ]
  },
  {
   "cell_type": "code",
   "execution_count": 22,
   "id": "a72fd4be",
   "metadata": {},
   "outputs": [],
   "source": [
    "#we need to change the column header row from the \"unamed\" headers to the first row in the csv which contain headers like \"AVG\", \"OBS\", etc\n",
    "\n",
    "#grab the first row for the header\n",
    "new_batting_header = initial_batting_df.iloc[0]\n",
    "new_pitching_header = initial_pitching_df.iloc[0]\n",
    "\n",
    "#take the data minus the header row\n",
    "initial_batting_df_drop_header_row = initial_batting_df[1:]\n",
    "initial_pitching_df_drop_header_row = initial_pitching_df[1:]\n",
    "\n",
    "#set the header row as the df header\n",
    "initial_batting_df_drop_header_row.columns = new_batting_header\n",
    "initial_pitching_df_drop_header_row.columns = new_pitching_header\n"
   ]
  },
  {
   "cell_type": "code",
   "execution_count": null,
   "id": "07a35b84",
   "metadata": {},
   "outputs": [],
   "source": []
  },
  {
   "cell_type": "code",
   "execution_count": null,
   "id": "be3df087",
   "metadata": {},
   "outputs": [],
   "source": []
  }
 ],
 "metadata": {
  "kernelspec": {
   "display_name": "Python 3 (ipykernel)",
   "language": "python",
   "name": "python3"
  },
  "language_info": {
   "codemirror_mode": {
    "name": "ipython",
    "version": 3
   },
   "file_extension": ".py",
   "mimetype": "text/x-python",
   "name": "python",
   "nbconvert_exporter": "python",
   "pygments_lexer": "ipython3",
   "version": "3.9.7"
  }
 },
 "nbformat": 4,
 "nbformat_minor": 5
}
