{
 "cells": [
  {
   "cell_type": "code",
   "execution_count": null,
   "id": "55de077f",
   "metadata": {},
   "outputs": [],
   "source": [
    "#Notebook to analyze data from game changer seasonal stat export"
   ]
  },
  {
   "cell_type": "code",
   "execution_count": 1,
   "id": "4c79e5e3",
   "metadata": {},
   "outputs": [],
   "source": [
    "#import packages\n",
    "\n",
    "import pandas as pd"
   ]
  },
  {
   "cell_type": "code",
   "execution_count": 4,
   "id": "a6b9236b",
   "metadata": {},
   "outputs": [],
   "source": [
    "#read the csv file from the data folder. this file is downloaded from web.gc.com under your teams stat page\n",
    "\n",
    "initial_df = pd.read_csv('data/gcstats09062022.csv')"
   ]
  },
  {
   "cell_type": "code",
   "execution_count": 28,
   "id": "41bbaa59",
   "metadata": {},
   "outputs": [],
   "source": [
    "#In the first row of the seasonal stats csv, there are 2 columm values. 'Batting' and 'Pitching.'\n",
    "#We want to slice the data from column1 to the 'Pitching' value, and call it initial_batting_df_plus_pitching.\n",
    "\n",
    "initial_batting_df_plus_pitching = initial_df.loc[:,:'Pitching']\n",
    "\n",
    "#Drop the 'Pitching' column and call the new dataframe, initial_batting_df\n",
    "\n",
    "initial_batting_df = initial_batting_df.drop(['Pitching'], axis=1)"
   ]
  },
  {
   "cell_type": "code",
   "execution_count": 29,
   "id": "6fc0065f",
   "metadata": {},
   "outputs": [],
   "source": [
    "#Slice the csv from 'Pitching' to the end of the csv columns'\n",
    "\n",
    "initial_pitching_df = initial_df.loc[:,'Pitching':]"
   ]
  },
  {
   "cell_type": "code",
   "execution_count": null,
   "id": "0b707ee8",
   "metadata": {},
   "outputs": [],
   "source": []
  }
 ],
 "metadata": {
  "kernelspec": {
   "display_name": "Python 3 (ipykernel)",
   "language": "python",
   "name": "python3"
  },
  "language_info": {
   "codemirror_mode": {
    "name": "ipython",
    "version": 3
   },
   "file_extension": ".py",
   "mimetype": "text/x-python",
   "name": "python",
   "nbconvert_exporter": "python",
   "pygments_lexer": "ipython3",
   "version": "3.9.7"
  }
 },
 "nbformat": 4,
 "nbformat_minor": 5
}
