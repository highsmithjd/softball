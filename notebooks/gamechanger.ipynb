{
 "cells": [
  {
   "cell_type": "code",
   "execution_count": 36,
   "id": "5b471c02",
   "metadata": {},
   "outputs": [],
   "source": [
    "#Notebook to analyze data from game changer seasonal stat export"
   ]
  },
  {
   "cell_type": "code",
   "execution_count": 37,
   "id": "93cda3f2",
   "metadata": {},
   "outputs": [],
   "source": [
    "#import packages\n",
    "\n",
    "import pandas as pd\n",
    "from matplotlib import pyplot as plt"
   ]
  },
  {
   "cell_type": "code",
   "execution_count": 38,
   "id": "9de534c4",
   "metadata": {
    "scrolled": true
   },
   "outputs": [],
   "source": [
    "initial_df = pd.read_csv('../data/gcstats09062022.csv')"
   ]
  },
  {
   "cell_type": "code",
   "execution_count": 39,
   "id": "46ce714d",
   "metadata": {},
   "outputs": [],
   "source": [
    "#In the first row of the seasonal stats csv, there are 3 columm values. 'Batting', 'Pitching', and 'Fielding'\n",
    "#We want to slice the data from column1 to the 'Pitching' value, and call it initial_batting_df_plus_pitching.\n",
    "\n",
    "initial_batting_df_plus_pitching = initial_df.loc[:,:'Pitching']\n",
    "\n",
    "#Drop the 'Pitching' column and call the new dataframe, initial_batting_df\n",
    "\n",
    "initial_batting_df = initial_batting_df_plus_pitching.drop(['Pitching'], axis=1)\n"
   ]
  },
  {
   "cell_type": "code",
   "execution_count": 40,
   "id": "914b96a1",
   "metadata": {},
   "outputs": [],
   "source": [
    "#Slice the csv from 'Pitching' to the end of the csv columns'\n",
    "\n",
    "initial_pitching_df = initial_df.loc[:,'Pitching':]"
   ]
  },
  {
   "cell_type": "code",
   "execution_count": 41,
   "id": "7ae56fe5",
   "metadata": {},
   "outputs": [],
   "source": [
    "#we need to change the column header row from the \"unamed\" headers to the first row in the csv which contain headers like \"AVG\", \"OBS\", etc\n",
    "\n",
    "#grab the first row for the header\n",
    "new_batting_header = initial_batting_df.iloc[0]\n",
    "new_pitching_header = initial_pitching_df.iloc[0]\n",
    "\n",
    "#take the data minus the header row\n",
    "initial_batting_df_drop_header_row = initial_batting_df[1:]\n",
    "initial_pitching_df_drop_header_row = initial_pitching_df[1:]\n",
    "\n",
    "#set the header row as the df header\n",
    "initial_batting_df_drop_header_row.columns = new_batting_header\n",
    "initial_pitching_df_drop_header_row.columns = new_pitching_header\n"
   ]
  },
  {
   "cell_type": "code",
   "execution_count": 42,
   "id": "8cf3828f",
   "metadata": {},
   "outputs": [],
   "source": [
    "#drop the row that contains the glossary\n",
    "initial_batting_df_drop_glossary = initial_batting_df_drop_header_row[initial_batting_df_drop_header_row.Number != \"Glossary\"]\n"
   ]
  },
  {
   "cell_type": "code",
   "execution_count": 43,
   "id": "011acf75",
   "metadata": {},
   "outputs": [],
   "source": [
    "#drop rows where the 'Number'j column contains nulls\n",
    "initial_batting_df_drop_nan = initial_batting_df_drop_glossary[initial_batting_df_drop_glossary['Number'].notna()]"
   ]
  },
  {
   "cell_type": "code",
   "execution_count": 44,
   "id": "07a35b84",
   "metadata": {},
   "outputs": [
    {
     "name": "stderr",
     "output_type": "stream",
     "text": [
      "/var/folders/c7/dq0txld17tz1jp96ly8d0wgh0000gn/T/ipykernel_1224/2067570385.py:2: SettingWithCopyWarning: \n",
      "A value is trying to be set on a copy of a slice from a DataFrame.\n",
      "Try using .loc[row_indexer,col_indexer] = value instead\n",
      "\n",
      "See the caveats in the documentation: https://pandas.pydata.org/pandas-docs/stable/user_guide/indexing.html#returning-a-view-versus-a-copy\n",
      "  initial_batting_df_drop_nan[\"GP\"] = initial_batting_df_drop_nan[\"GP\"].astype(int)\n",
      "/var/folders/c7/dq0txld17tz1jp96ly8d0wgh0000gn/T/ipykernel_1224/2067570385.py:3: SettingWithCopyWarning: \n",
      "A value is trying to be set on a copy of a slice from a DataFrame.\n",
      "Try using .loc[row_indexer,col_indexer] = value instead\n",
      "\n",
      "See the caveats in the documentation: https://pandas.pydata.org/pandas-docs/stable/user_guide/indexing.html#returning-a-view-versus-a-copy\n",
      "  initial_batting_df_drop_nan[\"AVG\"] = initial_batting_df_drop_nan[\"AVG\"].astype(float)\n",
      "/var/folders/c7/dq0txld17tz1jp96ly8d0wgh0000gn/T/ipykernel_1224/2067570385.py:4: SettingWithCopyWarning: \n",
      "A value is trying to be set on a copy of a slice from a DataFrame.\n",
      "Try using .loc[row_indexer,col_indexer] = value instead\n",
      "\n",
      "See the caveats in the documentation: https://pandas.pydata.org/pandas-docs/stable/user_guide/indexing.html#returning-a-view-versus-a-copy\n",
      "  initial_batting_df_drop_nan[\"OBP\"] = initial_batting_df_drop_nan[\"OBP\"].astype(float)\n",
      "/var/folders/c7/dq0txld17tz1jp96ly8d0wgh0000gn/T/ipykernel_1224/2067570385.py:5: SettingWithCopyWarning: \n",
      "A value is trying to be set on a copy of a slice from a DataFrame.\n",
      "Try using .loc[row_indexer,col_indexer] = value instead\n",
      "\n",
      "See the caveats in the documentation: https://pandas.pydata.org/pandas-docs/stable/user_guide/indexing.html#returning-a-view-versus-a-copy\n",
      "  initial_batting_df_drop_nan[\"OPS\"] = initial_batting_df_drop_nan[\"OPS\"].astype(float)\n",
      "/var/folders/c7/dq0txld17tz1jp96ly8d0wgh0000gn/T/ipykernel_1224/2067570385.py:6: SettingWithCopyWarning: \n",
      "A value is trying to be set on a copy of a slice from a DataFrame.\n",
      "Try using .loc[row_indexer,col_indexer] = value instead\n",
      "\n",
      "See the caveats in the documentation: https://pandas.pydata.org/pandas-docs/stable/user_guide/indexing.html#returning-a-view-versus-a-copy\n",
      "  initial_batting_df_drop_nan[\"First\"] = initial_batting_df_drop_nan[\"First\"].astype(str)\n"
     ]
    },
    {
     "data": {
      "text/html": [
       "<div>\n",
       "<style scoped>\n",
       "    .dataframe tbody tr th:only-of-type {\n",
       "        vertical-align: middle;\n",
       "    }\n",
       "\n",
       "    .dataframe tbody tr th {\n",
       "        vertical-align: top;\n",
       "    }\n",
       "\n",
       "    .dataframe thead th {\n",
       "        text-align: right;\n",
       "    }\n",
       "</style>\n",
       "<table border=\"1\" class=\"dataframe\">\n",
       "  <thead>\n",
       "    <tr style=\"text-align: right;\">\n",
       "      <th></th>\n",
       "      <th>Number</th>\n",
       "      <th>Last</th>\n",
       "      <th>First</th>\n",
       "      <th>GP</th>\n",
       "      <th>PA</th>\n",
       "      <th>AB</th>\n",
       "      <th>AVG</th>\n",
       "      <th>OBP</th>\n",
       "      <th>OPS</th>\n",
       "      <th>SLG</th>\n",
       "      <th>...</th>\n",
       "      <th>PS</th>\n",
       "      <th>PS/PA</th>\n",
       "      <th>2S+3</th>\n",
       "      <th>2S+3%</th>\n",
       "      <th>6+</th>\n",
       "      <th>6+%</th>\n",
       "      <th>AB/HR</th>\n",
       "      <th>GIDP</th>\n",
       "      <th>GITP</th>\n",
       "      <th>CI</th>\n",
       "    </tr>\n",
       "  </thead>\n",
       "  <tbody>\n",
       "    <tr>\n",
       "      <th>1</th>\n",
       "      <td>00</td>\n",
       "      <td>H</td>\n",
       "      <td>Cameron</td>\n",
       "      <td>3</td>\n",
       "      <td>7</td>\n",
       "      <td>3</td>\n",
       "      <td>0.000</td>\n",
       "      <td>0.571</td>\n",
       "      <td>0.571</td>\n",
       "      <td>.000</td>\n",
       "      <td>...</td>\n",
       "      <td>34</td>\n",
       "      <td>4.857</td>\n",
       "      <td>1</td>\n",
       "      <td>14.29</td>\n",
       "      <td>3</td>\n",
       "      <td>42.86</td>\n",
       "      <td>0.0</td>\n",
       "      <td>0</td>\n",
       "      <td>0</td>\n",
       "      <td>0</td>\n",
       "    </tr>\n",
       "    <tr>\n",
       "      <th>2</th>\n",
       "      <td>3</td>\n",
       "      <td>T</td>\n",
       "      <td>Kyndall</td>\n",
       "      <td>3</td>\n",
       "      <td>7</td>\n",
       "      <td>7</td>\n",
       "      <td>0.286</td>\n",
       "      <td>0.286</td>\n",
       "      <td>0.571</td>\n",
       "      <td>.286</td>\n",
       "      <td>...</td>\n",
       "      <td>16</td>\n",
       "      <td>2.286</td>\n",
       "      <td>0</td>\n",
       "      <td>0.00</td>\n",
       "      <td>0</td>\n",
       "      <td>0.00</td>\n",
       "      <td>0.0</td>\n",
       "      <td>0</td>\n",
       "      <td>0</td>\n",
       "      <td>0</td>\n",
       "    </tr>\n",
       "    <tr>\n",
       "      <th>3</th>\n",
       "      <td>4</td>\n",
       "      <td>O</td>\n",
       "      <td>Mia</td>\n",
       "      <td>3</td>\n",
       "      <td>5</td>\n",
       "      <td>5</td>\n",
       "      <td>0.400</td>\n",
       "      <td>0.400</td>\n",
       "      <td>1.000</td>\n",
       "      <td>.600</td>\n",
       "      <td>...</td>\n",
       "      <td>12</td>\n",
       "      <td>2.400</td>\n",
       "      <td>1</td>\n",
       "      <td>20.00</td>\n",
       "      <td>1</td>\n",
       "      <td>20.00</td>\n",
       "      <td>0.0</td>\n",
       "      <td>0</td>\n",
       "      <td>0</td>\n",
       "      <td>0</td>\n",
       "    </tr>\n",
       "    <tr>\n",
       "      <th>4</th>\n",
       "      <td>9</td>\n",
       "      <td>V</td>\n",
       "      <td>Lauren</td>\n",
       "      <td>3</td>\n",
       "      <td>5</td>\n",
       "      <td>4</td>\n",
       "      <td>0.000</td>\n",
       "      <td>0.200</td>\n",
       "      <td>0.200</td>\n",
       "      <td>.000</td>\n",
       "      <td>...</td>\n",
       "      <td>14</td>\n",
       "      <td>2.800</td>\n",
       "      <td>0</td>\n",
       "      <td>0.00</td>\n",
       "      <td>1</td>\n",
       "      <td>20.00</td>\n",
       "      <td>0.0</td>\n",
       "      <td>0</td>\n",
       "      <td>0</td>\n",
       "      <td>0</td>\n",
       "    </tr>\n",
       "    <tr>\n",
       "      <th>5</th>\n",
       "      <td>13</td>\n",
       "      <td>W</td>\n",
       "      <td>Kyler</td>\n",
       "      <td>3</td>\n",
       "      <td>6</td>\n",
       "      <td>6</td>\n",
       "      <td>0.167</td>\n",
       "      <td>0.167</td>\n",
       "      <td>0.500</td>\n",
       "      <td>.333</td>\n",
       "      <td>...</td>\n",
       "      <td>18</td>\n",
       "      <td>3.000</td>\n",
       "      <td>1</td>\n",
       "      <td>16.67</td>\n",
       "      <td>0</td>\n",
       "      <td>0.00</td>\n",
       "      <td>0.0</td>\n",
       "      <td>0</td>\n",
       "      <td>0</td>\n",
       "      <td>0</td>\n",
       "    </tr>\n",
       "  </tbody>\n",
       "</table>\n",
       "<p>5 rows × 54 columns</p>\n",
       "</div>"
      ],
      "text/plain": [
       "0 Number Last    First  GP PA AB    AVG    OBP    OPS   SLG  ...  PS  PS/PA  \\\n",
       "1     00    H  Cameron   3  7  3  0.000  0.571  0.571  .000  ...  34  4.857   \n",
       "2      3    T  Kyndall   3  7  7  0.286  0.286  0.571  .286  ...  16  2.286   \n",
       "3      4    O      Mia   3  5  5  0.400  0.400  1.000  .600  ...  12  2.400   \n",
       "4      9    V   Lauren   3  5  4  0.000  0.200  0.200  .000  ...  14  2.800   \n",
       "5     13    W    Kyler   3  6  6  0.167  0.167  0.500  .333  ...  18  3.000   \n",
       "\n",
       "0 2S+3  2S+3% 6+    6+% AB/HR GIDP GITP CI  \n",
       "1    1  14.29  3  42.86   0.0    0    0  0  \n",
       "2    0   0.00  0   0.00   0.0    0    0  0  \n",
       "3    1  20.00  1  20.00   0.0    0    0  0  \n",
       "4    0   0.00  1  20.00   0.0    0    0  0  \n",
       "5    1  16.67  0   0.00   0.0    0    0  0  \n",
       "\n",
       "[5 rows x 54 columns]"
      ]
     },
     "execution_count": 44,
     "metadata": {},
     "output_type": "execute_result"
    }
   ],
   "source": [
    "\n",
    "#initial_batting_df_drop_nan[\"Number\"] = initial_batting_df_drop_nan[\"Number\"].astype(int)\n",
    "initial_batting_df_drop_nan[\"GP\"] = initial_batting_df_drop_nan[\"GP\"].astype(int)\n",
    "initial_batting_df_drop_nan[\"AVG\"] = initial_batting_df_drop_nan[\"AVG\"].astype(float)\n",
    "initial_batting_df_drop_nan[\"OBP\"] = initial_batting_df_drop_nan[\"OBP\"].astype(float)\n",
    "initial_batting_df_drop_nan[\"OPS\"] = initial_batting_df_drop_nan[\"OPS\"].astype(float)\n",
    "initial_batting_df_drop_nan[\"First\"] = initial_batting_df_drop_nan[\"First\"].astype(str)\n",
    "initial_batting_df_drop_nan.head()"
   ]
  },
  {
   "cell_type": "code",
   "execution_count": 45,
   "id": "1686b795",
   "metadata": {},
   "outputs": [
    {
     "data": {
      "image/png": "[encoded data removed]",
      "text/plain": [
       "<Figure size 864x576 with 1 Axes>"
      ]
     },
     "metadata": {},
     "output_type": "display_data"
    }
   ],
   "source": [
    "# Plot the AVG column on the x-axis and the OBP column on the y-axis\n",
    "# plt.xlim and plt.ylim moves the graph out to 1.0 which is a 1000 batting average and 1000 on base percentage\n",
    "# plt.figure increases the plot size so the scatter plot is not so crowded\n",
    "fig = plt.figure(figsize=(12,8))\n",
    "plt.style.use('fivethirtyeight')\n",
    "plt.scatter(initial_batting_df_drop_nan[\"AVG\"], initial_batting_df_drop_nan[\"OBP\"])\n",
    "plt.xlabel(\"Batting Average\")\n",
    "plt.ylabel('On Base Percentage')\n",
    "plt.title('AVG and OBP')\n",
    "plt.grid()\n",
    "plt.xlim((0,1))\n",
    "plt.ylim((0,1))\n",
    "\n",
    "\n",
    "for x_pos, y_pos, label in zip(initial_batting_df_drop_nan[\"AVG\"], initial_batting_df_drop_nan[\"OBP\"], initial_batting_df_drop_nan[\"First\"]):\n",
    "    plt.annotate(label,             # The label for this point\n",
    "                xy=(x_pos, y_pos), # Position of the corresponding point\n",
    "                xytext=(7, 0),     # Offset text by 7 points to the right\n",
    "                textcoords='offset points', # tell it to use offset points\n",
    "                ha='left',         # Horizontally aligned to the left\n",
    "                va='center')       # Vertical alignment is centered\n",
    "\n",
    "# plt.savefig('avg_obp.png') \n",
    "# gc_team_t = np.transpose(gc_team)\n",
    "\n",
    "#plt.grid() shows grid lines on the plot\n",
    "plt.grid()\n",
    "\n",
    "plt.show()"
   ]
  },
  {
   "cell_type": "code",
   "execution_count": 47,
   "id": "a7d507a9",
   "metadata": {},
   "outputs": [
    {
     "data": {
      "text/plain": [
       "<BarContainer object of 11 artists>"
      ]
     },
     "execution_count": 47,
     "metadata": {},
     "output_type": "execute_result"
    },
    {
     "data": {
      "image/png": "[encoded data removed]",
      "text/plain": [
       "<Figure size 432x288 with 1 Axes>"
      ]
     },
     "metadata": {},
     "output_type": "display_data"
    }
   ],
   "source": [
    "#horizontal bar chare of batting averages\n",
    "plt.barh(initial_batting_df_drop_nan.First, initial_batting_df_drop_nan.AVG)"
   ]
  },
  {
   "cell_type": "code",
   "execution_count": null,
   "id": "74616dae",
   "metadata": {},
   "outputs": [],
   "source": []
  }
 ],
 "metadata": {
  "kernelspec": {
   "display_name": "Python 3 (ipykernel)",
   "language": "python",
   "name": "python3"
  },
  "language_info": {
   "codemirror_mode": {
    "name": "ipython",
    "version": 3
   },
   "file_extension": ".py",
   "mimetype": "text/x-python",
   "name": "python",
   "nbconvert_exporter": "python",
   "pygments_lexer": "ipython3",
   "version": "3.9.7"
  }
 },
 "nbformat": 4,
 "nbformat_minor": 5
}
