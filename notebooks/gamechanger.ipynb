{
 "cells": [
  {
   "cell_type": "markdown",
   "id": "edf9417c",
   "metadata": {},
   "source": [
    "## Notebook to analyze data from game changer seasonal stat export"
   ]
  },
  {
   "cell_type": "code",
   "execution_count": 41,
   "id": "93cda3f2",
   "metadata": {},
   "outputs": [],
   "source": [
    "#import packages\n",
    "\n",
    "import pandas as pd\n",
    "from matplotlib import pyplot as plt"
   ]
  },
  {
   "cell_type": "code",
   "execution_count": 42,
   "id": "9de534c4",
   "metadata": {
    "scrolled": true
   },
   "outputs": [],
   "source": [
    "#Read csv into initial_df. Provide path to csv\n",
    "\n",
    "initial_df = pd.read_csv('../data/tnbh11202022.csv')"
   ]
  },
  {
   "cell_type": "code",
   "execution_count": 43,
   "id": "a3423f2b",
   "metadata": {},
   "outputs": [],
   "source": [
    "#drop the row that contains the glossary. At this point, the column is still 'Unamed: 0'\n",
    "\n",
    "initial_df.drop(initial_df[initial_df['Unnamed: 0'] == 'Glossary'].index, inplace = True)"
   ]
  },
  {
   "cell_type": "code",
   "execution_count": 44,
   "id": "46ce714d",
   "metadata": {},
   "outputs": [],
   "source": [
    "#In the first row of the seasonal stats csv, there are 3 columm values. 'Batting', 'Pitching', and 'Fielding'\n",
    "\n",
    "#Grab Number, Last, and First columns and save as player_df. we can use this as the first 3 columns in pitching and fielding dataframes\n",
    "player_df = initial_df.iloc[:,:4]\n",
    "\n",
    "#We want to slice the data from column1 to the 'Pitching' value. Drop the 'Pitching' column and call the new dataframe, initial_batting_df\n",
    "initial_batting_df = initial_df.loc[:,:'Pitching'].drop(['Pitching'], axis='columns')\n",
    "\n",
    "#Slice the csv from 'Pitching' to 'Fielding' and create the initial_pitching_df. Drop the 'Fielding' column at the end\n",
    "\n",
    "initial_pitching_df = initial_df.loc[:,'Pitching':'Fielding'].drop(['Fielding'], axis='columns')\n",
    "\n",
    "#Slice the csv from 'Fielding' to the end of the last column\n",
    "initial_fielding_df = initial_df.loc[:,'Fielding':]\n",
    "\n",
    "#Add the Number, First, and Last columns to the pitching and fielding dataframe. Batting was already set\n",
    "initial_pitching_df = pd.concat([player_df, initial_pitching_df], axis = 1)\n",
    "initial_fielding_df = pd.concat([player_df, initial_fielding_df], axis = 1)\n",
    "\n"
   ]
  },
  {
   "cell_type": "code",
   "execution_count": 45,
   "id": "7ae56fe5",
   "metadata": {},
   "outputs": [],
   "source": [
    "#we need to change the column header row from the \"unamed\" headers to the first row in the csv which contain headers like \"AVG\", \"OBS\", etc\n",
    "\n",
    "#grab the first row for the header\n",
    "new_batting_header = initial_batting_df.iloc[0]\n",
    "new_pitching_header = initial_pitching_df.iloc[0]\n",
    "new_fielding_header = initial_fielding_df.iloc[0]\n",
    "\n",
    "#take the data minus the header row. this creates a new dataframe\n",
    "\n",
    "# (deprecated) initial_batting_df_drop_header_row = initial_batting_df[1:]\n",
    "initial_batting_df_drop_header_row = initial_batting_df.iloc[1:,:]\n",
    "initial_pitching_df_drop_header_row = initial_pitching_df.iloc[1:,:]\n",
    "initial_fielding_df_drop_header_row = initial_fielding_df.iloc[1:,:]\n",
    "\n",
    "#set the header row as the df header. the .column sets the headers of the dataframe\n",
    "initial_batting_df_drop_header_row.columns = new_batting_header\n",
    "initial_pitching_df_drop_header_row.columns = new_pitching_header\n",
    "initial_fielding_df_drop_header_row.columns = new_fielding_header\n"
   ]
  },
  {
   "cell_type": "code",
   "execution_count": 46,
   "id": "011acf75",
   "metadata": {},
   "outputs": [
    {
     "name": "stderr",
     "output_type": "stream",
     "text": [
      "/Users/danielhighsmith/opt/anaconda3/lib/python3.9/site-packages/pandas/core/indexing.py:1951: SettingWithCopyWarning: \n",
      "A value is trying to be set on a copy of a slice from a DataFrame.\n",
      "Try using .loc[row_indexer,col_indexer] = value instead\n",
      "\n",
      "See the caveats in the documentation: https://pandas.pydata.org/pandas-docs/stable/user_guide/indexing.html#returning-a-view-versus-a-copy\n",
      "  self.obj[selected_item_labels] = value\n"
     ]
    }
   ],
   "source": [
    "#drop rows where the 'Number' column contains nulls\n",
    "\n",
    "# (deprecated) initial_batting_df_drop_nan = initial_batting_df_drop_header_row[initial_batting_df_drop_header_row['Number'].notna()]\n",
    "initial_batting_df_drop_nan = initial_batting_df_drop_header_row[initial_batting_df_drop_header_row.loc[:,'Number'].notna()]\n",
    "initial_pitching_df_drop_nan = initial_pitching_df_drop_header_row[initial_pitching_df_drop_header_row.loc[:,'Number'].notna()]\n",
    "initial_fielding_df_drop_nan = initial_fielding_df_drop_header_row[initial_fielding_df_drop_header_row.loc[:,'Number'].notna()]\n",
    "\n",
    "initial_batting_df_drop_total = initial_batting_df_drop_nan[initial_batting_df_drop_nan['First'].notna()]\n",
    "initial_pitching_df_drop_total = initial_pitching_df_drop_nan[initial_pitching_df_drop_nan['First'].notna()]\n",
    "initial_fielding_df_drop_total = initial_fielding_df_drop_nan[initial_fielding_df_drop_nan['First'].notna()]\n",
    "\n",
    "#Convert IP column from object type to float type, then remove all rows with IP (innings pitchted) greater than zero. This should leave only pitchers in this dataframe\n",
    "initial_pitching_df_drop_total.loc[:,\"IP\"] = initial_pitching_df_drop_total[\"IP\"].astype(float)\n",
    "initial_pitching_df_drop_total = initial_pitching_df_drop_total.loc[(initial_pitching_df_drop_total['IP'] > 0)]\n",
    "\n"
   ]
  },
  {
   "cell_type": "code",
   "execution_count": 47,
   "id": "fa26bd14",
   "metadata": {},
   "outputs": [],
   "source": [
    "#Make dictionary for batting, pitching, and fielding column data types\n",
    "\n",
    "batting_dict = {'Number':int, 'Last':str, 'First':str, 'GP':int, 'PA':int, 'AB':int, 'AVG':float, 'OBP':float, 'OPS':float, 'SLG':float, 'H':int, '1B':int, '2B':int, '3B':int, 'HR':int, 'RBI':int, 'R':int, 'BB':int, 'SO':int, 'K-L':int, 'HBP':int, 'SAC':int, 'SF':int, 'ROE':int, 'FC':int, 'SB':int, 'SB%':float, 'CS':int, 'PIK':int, 'QAB':int, 'QAB%':float, 'PA/BB':float, 'BB/K':float, 'C%':float, 'HHB':int, 'LD%':float, 'FB%':float, 'GB%':float, 'BABIP':float, 'BA/RISP':float, 'LOB':int, '2OUTRBI':int, 'XBH':int, 'TB':int, 'PS':int, 'PS/PA':float, '2S+3':int, '2S+3%':float, '6+':int, \"6+%\":float, 'AB/HR':int, 'GIDP':int, 'GITP':int, 'CI':int}\n",
    "\n",
    "pitching_dict = {'Number':int, 'Last':str, 'First':str, 'IP':int, 'GP':int, 'GS':int, 'BF':int, '#P':int, 'W':int, 'L':int, 'SV':int, 'SVO':int, 'BS':int, 'SV%':float, 'H':int, 'R':int, 'ER':int, 'BB':int, 'SO':int, 'K-L':int, 'HBP':int, 'ERA':float, 'WHIP':float, 'LOB':int, 'BK':int, 'PIK':int, 'CS':int, 'SB':int, 'SB%':float, 'WP':int, 'BAA':float, 'P/IP':float, 'P/BF':float, '<3%':float, 'LOO':int, '1ST2OUT':int, '123INN':int, '<13':int, 'FIP':float, 'S%':float, 'FPS%':float, 'FPSO%':float, 'FPSW%':float, 'FPSH%':float, 'BB/INN':float, '0BBINN':int, 'BBS':int, 'LOBB':int, 'LOBBS':int, 'SM%':float, 'K/BF':float, 'K/BB':float, 'WEAK%':float, 'HHB%':float, 'GO/AO':float, 'HR':int, 'LD%':float, 'FB%':float, 'GB%':float, 'BABIP':float, 'BA/RISP':float, 'FB':int, 'FBS':int, 'FBS%':float, 'FBSW%':float, 'FBSM%':float, 'CH':int, 'CHS':int, 'CHS%':float, 'CHSW%':float, 'CHSM%':float, 'RB':int, 'RBS':int, 'RBS%':float, 'RBSW%':float, 'RBSM%':float, 'DB':int, 'DBS':int, 'DBS%':float, 'DBSW%':float, 'DBSM%':float, 'SC':int, 'SCS':int, 'SCS%':float, 'SCSW%':float, 'SCSM%':float, 'CB':int, 'CBS':int, 'CBS%':float, 'CBSW%':float, 'CBSM%':float, 'DC':int, 'DCS':int, 'DCS%':float, 'DCSW%':float, 'DCSM%':float, 'KB':int, 'KBS':int, 'KBS%':float, 'KBSW%':float, 'KBSM%':float, 'KC':int, 'KCS':int, 'KCS%':float, 'KCSW%':float, 'KCSM%':float, 'OS':int, 'OSS':int, 'OSS%':float, 'OSSW%':float, 'OSSM%':float}\n",
    "\n",
    "fielding_dict = {'Number': int, 'Last':str, 'First':str, 'GP':int, 'TC':int, 'A':int, 'PO':int, 'FPCT':float, 'E':int, 'DP':int, 'TP':int, 'INN':float, 'PB':int, 'SB':int, 'SB-ATT':str, 'CS':int, 'CS%':float, 'PIK':int, 'CI':int}"
   ]
  },
  {
   "cell_type": "code",
   "execution_count": 48,
   "id": "07a35b84",
   "metadata": {},
   "outputs": [],
   "source": [
    "#create new dataframe with correct column dtypes\n",
    "batting_df = initial_batting_df_drop_total.astype(batting_dict)\n",
    "pitching_df = initial_pitching_df_drop_total.astype(pitching_dict)\n",
    "fielding_df = initial_fielding_df_drop_total.astype(fielding_dict)\n",
    "catchers_df = fielding_df.loc[(fielding_df['INN'] > 0)]\n"
   ]
  },
  {
   "cell_type": "code",
   "execution_count": null,
   "id": "8e86e0a4",
   "metadata": {},
   "outputs": [],
   "source": []
  },
  {
   "cell_type": "code",
   "execution_count": 56,
   "id": "c069744a",
   "metadata": {},
   "outputs": [],
   "source": [
    "# Create a new dataframe with platers who have played 10 games or more. This will eliminate most pick up players. Comment this section out if early in season\n",
    "batting_df_ten = batting_df.loc[(batting_df['GP'] >= 10)]\n",
    "fielding_df_ten = fielding_df.loc[(fielding_df['GP'] >= 10)]\n"
   ]
  },
  {
   "cell_type": "code",
   "execution_count": 66,
   "id": "1686b795",
   "metadata": {},
   "outputs": [
    {
     "data": {
      "image/png": "[encoded data removed]",
      "text/plain": [
       "<Figure size 864x576 with 1 Axes>"
      ]
     },
     "metadata": {},
     "output_type": "display_data"
    }
   ],
   "source": [
    "# Plot the AVG column on the x-axis and the OBP column on the y-axis\n",
    "# plt.xlim and plt.ylim moves the graph out to 1.0 which is a 1000 batting average and 1000 on base percentage\n",
    "# plt.figure increases the plot size so the scatter plot is not so crowded\n",
    "fig = plt.figure(figsize=(12,8))\n",
    "plt.style.use('fivethirtyeight')\n",
    "plt.scatter(batting_df_ten[\"AVG\"], batting_df_ten[\"OBP\"])\n",
    "plt.xlabel(\"Batting Average\")\n",
    "plt.ylabel('On Base Percentage')\n",
    "plt.title('AVG and OBP')\n",
    "plt.grid()\n",
    "plt.xlim((0,1))\n",
    "plt.ylim((0,1))\n",
    "\n",
    "\n",
    "for x_pos, y_pos, label in zip(batting_df_ten[\"AVG\"], batting_df_ten[\"OBP\"], batting_df_ten[\"First\"]):\n",
    "    plt.annotate(label,             # The label for this point\n",
    "                xy=(x_pos, y_pos), # Position of the corresponding point\n",
    "                xytext=(10, 0),     # Offset text by 7 points to the right\n",
    "                textcoords='offset points', # tell it to use offset points\n",
    "                ha='left',         # Horizontally aligned to the left\n",
    "                va='center')       # Vertical alignment is centered\n",
    "\n",
    "# plt.savefig('avg_obp.png') \n",
    "# gc_team_t = np.transpose(gc_team)\n",
    "\n",
    "#plt.grid() shows grid lines on the plot\n",
    "plt.grid()\n",
    "\n",
    "plt.show()"
   ]
  },
  {
   "cell_type": "code",
   "execution_count": 61,
   "id": "a7d507a9",
   "metadata": {},
   "outputs": [
    {
     "data": {
      "text/plain": [
       "<BarContainer object of 5 artists>"
      ]
     },
     "execution_count": 61,
     "metadata": {},
     "output_type": "execute_result"
    },
    {
     "data": {
      "image/png": "[encoded data removed]",
      "text/plain": [
       "<Figure size 432x288 with 1 Axes>"
      ]
     },
     "metadata": {},
     "output_type": "display_data"
    }
   ],
   "source": [
    "#horizontal bar chare of batting averages, sorted AVG with the sorted() function\n",
    "#plt.barh(batting_df.First, sorted(batting_df.AVG))\n",
    "\n",
    "#plt.barh(pitching_df.First, sorted(pitching_df.IP))\n",
    "\n",
    "plt.barh(pitching_df.First, sorted(pitching_df.FIP))\n"
   ]
  },
  {
   "cell_type": "code",
   "execution_count": null,
   "id": "74616dae",
   "metadata": {},
   "outputs": [],
   "source": []
  },
  {
   "cell_type": "code",
   "execution_count": null,
   "id": "287d3141",
   "metadata": {},
   "outputs": [],
   "source": []
  }
 ],
 "metadata": {
  "kernelspec": {
   "display_name": "Python 3 (ipykernel)",
   "language": "python",
   "name": "python3"
  },
  "language_info": {
   "codemirror_mode": {
    "name": "ipython",
    "version": 3
   },
   "file_extension": ".py",
   "mimetype": "text/x-python",
   "name": "python",
   "nbconvert_exporter": "python",
   "pygments_lexer": "ipython3",
   "version": "3.9.7"
  }
 },
 "nbformat": 4,
 "nbformat_minor": 5
}
